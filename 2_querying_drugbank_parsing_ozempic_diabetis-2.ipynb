{
  "cells": [
    {
      "cell_type": "markdown",
      "metadata": {
        "id": "E0f7HhagdowM"
      },
      "source": [
        "# Для АТС препаратов, относящихся к лечению диабета, будем парсить страницу с описанием препаратов\n"
      ]
    },
    {
      "cell_type": "code",
      "execution_count": null,
      "metadata": {
        "id": "n5y3y6WJdowP"
      },
      "outputs": [],
      "source": [
        "from selenium.webdriver.support.ui import WebDriverWait\n",
        "from selenium.webdriver.support import expected_conditions as EC\n",
        "# Подключаем WebDriverWait для ожидания загрузки элементов страницы\n",
        "# expected_conditions (EC) содержит условия, при которых Selenium ждет появления элементов"
      ]
    },
    {
      "cell_type": "markdown",
      "metadata": {
        "id": "proDEsa5dowR"
      },
      "source": [
        "📌 Комментарий:\n",
        "\n",
        "WebDriverWait используется для ожидания появления элементов на странице перед взаимодействием с ними.\n",
        "expected_conditions (EC) содержит предопределенные условия, такие как наличие элемента, его кликабельность и другие, которые помогают Selenium работать с динамическим контентом.\n",
        "Эти модули часто используются в парсинге сайтов с динамически загружаемым контентом (например, при загрузке элементов через JavaScript)."
      ]
    },
    {
      "cell_type": "code",
      "execution_count": null,
      "metadata": {
        "id": "UhudYDxNdowS",
        "outputId": "7fee5748-760e-45d8-d92e-85a3a4586e98"
      },
      "outputs": [
        {
          "name": "stdout",
          "output_type": "stream",
          "text": [
            "173\n",
            "['Calcium glucoheptonate' 'Teplizumab' 'Tolrestat'] ['A12AA10' 'A10XX01' 'A10XA01']\n"
          ]
        }
      ],
      "source": [
        "import pandas as pd  # Импортируем библиотеку pandas для работы с табличными данными\n",
        "\n",
        "# Загружаем CSV-файл с данными об ATC-категориях для диабетических препаратов\n",
        "df = pd.read_csv('data/ATC_categories_diabetis.csv', index_col=0)\n",
        "\n",
        "# Извлекаем информацию о лекарственных средствах (их названия) и ATC-коды\n",
        "drugs = df['ATC_info'].values  # Получаем список названий препаратов\n",
        "ATCs = df['ATC'].values  # Получаем список ATC-кодов\n",
        "\n",
        "# Выводим количество загруженных препаратов\n",
        "print(len(drugs))\n",
        "\n",
        "# Выводим первые три названия препаратов и их ATC-коды\n",
        "print(drugs[:3], ATCs[:3])\n"
      ]
    },
    {
      "cell_type": "markdown",
      "metadata": {
        "id": "z_hcv8xidowT"
      },
      "source": [
        "📌 Комментарий:\n",
        "\n",
        "- import pandas as pd — загружаем библиотеку pandas, которая используется для обработки табличных данных.\n",
        "- pd.read_csv('data/ATC_categories_diabetis.csv', index_col=0) — загружаем CSV-файл, где:\n",
        "- index_col=0 указывает, что первый столбец должен использоваться как индекс.\n",
        "- df['ATC_info'].values — извлекает массив с названиями лекарственных препаратов.\n",
        "-зdf['ATC'].values — извлекает массив с ATC-кодами (классификация препаратов).\n",
        "- print(len(drugs)) — выводит общее количество загруженных записей.\n",
        "- print(drugs[:3], ATCs[:3]) — показывает первые три названия препаратов и их ATC-коды для проверки корректности загрузки данных."
      ]
    },
    {
      "cell_type": "code",
      "execution_count": null,
      "metadata": {
        "id": "gPcsZrILdowU"
      },
      "outputs": [],
      "source": [
        "import undetected_chromedriver as uc  # Импортируем undetected_chromedriver для обхода антибот-защиты\n",
        "from selenium.webdriver.common.by import By  # Импортируем By для поиска элементов на странице\n",
        "import time  # Подключаем библиотеку time для управления задержками\n",
        "from selenium import webdriver  # Импортируем webdriver для управления браузером\n",
        "from webdriver_manager.chrome import ChromeDriverManager  # Автоматическая установка ChromeDriver\n",
        "from selenium.webdriver.common.keys import Keys  # Импортируем Keys для имитации нажатия клавиш\n",
        "\n",
        "# Инициализируем Chrome через undetected_chromedriver, чтобы обходить антибот-защиту Cloudflare\n",
        "options = uc.ChromeOptions()\n",
        "options.add_argument('--no-sandbox')  # Отключаем песочницу для повышения совместимости\n",
        "options.add_argument('--disable-gpu')  # Отключаем GPU (актуально для некоторых серверов)\n",
        "options.add_argument('--disable-dev-shm-usage')  # Отключаем совместное использование памяти\n",
        "driver = uc.Chrome(options=options)  # Запускаем браузер с заданными параметрами\n",
        "\n",
        "# Цикл для обработки каждого лекарства из списка\n",
        "for i, drug_name in enumerate(drugs):\n",
        "    try:\n",
        "        ATC = ATCs[i]  # Получаем ATC-код, соответствующий лекарству\n",
        "        time.sleep(2)  # Добавляем небольшую задержку для стабильности\n",
        "\n",
        "        url = \"https://go.drugbank.com/\"  # URL сайта DrugBank\n",
        "        driver.get(url)  # Загружаем страницу\n",
        "        time.sleep(3)  # Ждем, чтобы Cloudflare успел проверить соединение\n",
        "\n",
        "        # Находим поле поиска по XPath и вводим название лекарства\n",
        "        xpath = '/html/body/header/div/nav/div/form/div[2]/input'\n",
        "        fld = driver.find_element(By.XPATH, xpath)  # Ищем поле ввода\n",
        "        fld.click()  # Активируем поле ввода\n",
        "        fld.send_keys(drug_name)  # Вводим название лекарства\n",
        "        fld.send_keys(Keys.RETURN)  # Нажимаем Enter для поиска\n",
        "\n",
        "        time.sleep(3)  # Ждем загрузки страницы с результатами поиска\n",
        "\n",
        "        # Получаем HTML-код страницы\n",
        "        page1 = driver.page_source\n",
        "        with open(f'drug_pages/{ATC}.html', 'w') as f:  # Сохраняем страницу в файл\n",
        "            f.write(page1)\n",
        "\n",
        "    except:\n",
        "        continue  # Если возникает ошибка, пропускаем этот элемент и переходим к следующему\n"
      ]
    },
    {
      "cell_type": "markdown",
      "metadata": {
        "id": "db8rF4MSdowU"
      },
      "source": [
        "📌 Комментарий:\n",
        "\n",
        "Импорт библиотек:\n",
        "\n",
        "- undetected_chromedriver — используется для обхода защиты Cloudflare.\n",
        "- selenium.webdriver.common.by.By — помогает искать элементы на странице.\n",
        "- selenium.webdriver.common.keys.Keys — позволяет эмулировать нажатия клавиш.\n",
        "- webdriver_manager.chrome — автоматически загружает ChromeDriver.\n",
        "\n",
        "Настройка Chrome:\n",
        "\n",
        "- options.add_argument('--no-sandbox') — отключает режим песочницы.\n",
        "- options.add_argument('--disable-gpu') — отключает графику (актуально для серверов).\n",
        "- options.add_argument('--disable-dev-shm-usage') — предотвращает ошибки с памятью.\n",
        "\n",
        "Основной цикл обработки лекарств:\n",
        "\n",
        "- Перебираем список drugs и соответствующие ATC-коды.\n",
        "- Загружаем главную страницу DrugBank.\n",
        "- Ожидаем проверку Cloudflare (time.sleep(3)).\n",
        "- Используем find_element(By.XPATH, xpath), чтобы найти поле поиска и ввести название лекарства.\n",
        "- Ждем загрузки результатов (time.sleep(3)).\n",
        "- Сохраняем HTML-код страницы в файл в папке drug_pages/, используя ATC в названии.\n",
        "Обработка ошибок:\n",
        "\n",
        "- try-except предотвращает остановку программы при ошибке (например, если сайт временно недоступен).\n",
        "- continue позволяет пропустить проблемный элемент и обработать следующий."
      ]
    },
    {
      "cell_type": "code",
      "execution_count": null,
      "metadata": {
        "id": "YmfKeuHPdowU"
      },
      "outputs": [],
      "source": []
    }
  ],
  "metadata": {
    "kernelspec": {
      "display_name": "Python 3 (ipykernel)",
      "language": "python",
      "name": "python3"
    },
    "language_info": {
      "codemirror_mode": {
        "name": "ipython",
        "version": 3
      },
      "file_extension": ".py",
      "mimetype": "text/x-python",
      "name": "python",
      "nbconvert_exporter": "python",
      "pygments_lexer": "ipython3",
      "version": "3.10.13"
    },
    "toc": {
      "base_numbering": 1,
      "nav_menu": {},
      "number_sections": true,
      "sideBar": true,
      "skip_h1_title": false,
      "title_cell": "Table of Contents",
      "title_sidebar": "Contents",
      "toc_cell": false,
      "toc_position": {},
      "toc_section_display": true,
      "toc_window_display": false
    },
    "varInspector": {
      "cols": {
        "lenName": 16,
        "lenType": 16,
        "lenVar": 40
      },
      "kernels_config": {
        "python": {
          "delete_cmd_postfix": "",
          "delete_cmd_prefix": "del ",
          "library": "var_list.py",
          "varRefreshCmd": "print(var_dic_list())"
        },
        "r": {
          "delete_cmd_postfix": ") ",
          "delete_cmd_prefix": "rm(",
          "library": "var_list.r",
          "varRefreshCmd": "cat(var_dic_list()) "
        }
      },
      "types_to_exclude": [
        "module",
        "function",
        "builtin_function_or_method",
        "instance",
        "_Feature"
      ],
      "window_display": false
    },
    "colab": {
      "provenance": []
    }
  },
  "nbformat": 4,
  "nbformat_minor": 0
}