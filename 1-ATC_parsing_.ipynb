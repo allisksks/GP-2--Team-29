{
 "cells": [
  {
   "cell_type": "code",
   "execution_count": null,
   "id": "3a4e8c81",
   "metadata": {},
   "outputs": [],
   "source": [
    "from selenium.webdriver.support.ui import WebDriverWait\n",
    "from selenium.webdriver.support import expected_conditions as EC"
   ]
  },
  {
   "cell_type": "markdown",
   "id": "a6799957",
   "metadata": {},
   "source": [
    "📌 **Комментарий**: Подключение библиотек Selenium для работы с веб-страницами. \n",
    "- `WebDriverWait` и `expected_conditions` используются для ожидания загрузки элементов перед их обработкой.\n"
   ]
  },
  {
   "cell_type": "code",
   "execution_count": null,
   "id": "fef91df7",
   "metadata": {},
   "outputs": [],
   "source": [
    "import undetected_chromedriver as uc\n",
    "from selenium.webdriver.common.by import By\n",
    "import time\n",
    "from selenium import webdriver\n",
    "from webdriver_manager.chrome import ChromeDriverManager\n",
    "from selenium.webdriver.common.keys import Keys \n",
    "\n",
    "# Инициализация браузера Chrome с настройками обхода защиты Cloudflare\n",
    "options = uc.ChromeOptions()\n",
    "options.add_argument('--no-sandbox')\n",
    "options.add_argument('--disable-gpu')\n",
    "options.add_argument('--disable-dev-shm-usage')\n",
    "\n",
    "driver = uc.Chrome(options=options)\n",
    "\n",
    "# Задержка для загрузки страницы\n",
    "time.sleep(2)\n",
    "\n",
    "# URL страницы ATC DrugBank\n",
    "url = \"https://go.drugbank.com/atc?query=A10B\"\n",
    "driver.get(url)\n",
    "time.sleep(3)  # Ожидание для обработки Cloudflare-защиты\n",
    "\n",
    "# Найти поле поиска и ввести запрос\n",
    "xpath = '/html/body/main/div/div[3]/div[1]/form/div/input'\n",
    "fld = driver.find_element(By.XPATH, xpath)\n",
    "fld.click()\n",
    "drug_name = 'A10B'  # Код группы лекарств от диабета\n",
    "fld.send_keys(drug_name)\n",
    "fld.send_keys(Keys.RETURN)"
   ]
  },
  {
   "cell_type": "markdown",
   "id": "1cfdaf43",
   "metadata": {},
   "source": [
    "📌 **Комментарий**: Инициализация браузера Chrome с обходом защиты Cloudflare и загрузка страницы. \n",
    "- `undetected_chromedriver` помогает обходить автоматические проверки Cloudflare.\n",
    "- `driver.get(url)`: загружает веб-страницу ATC-классификации.\n",
    "- `fld.send_keys(drug_name)`: вводит поисковый запрос в поле.\n",
    "- `Keys.RETURN`: имитирует нажатие Enter.\n"
   ]
  },
  {
   "cell_type": "code",
   "execution_count": null,
   "id": "930ba221",
   "metadata": {},
   "outputs": [],
   "source": [
    "# Ожидание появления дерева категорий\n",
    "wait = WebDriverWait(driver, 10)\n",
    "wait.until(EC.presence_of_element_located((By.CSS_SELECTOR, \".jstree\")))\n",
    "\n",
    "# Разворачивание узлов дерева\n",
    "nodes = [1,2]\n",
    "while len(nodes) > 0:\n",
    "    nodes = driver.find_elements(By.CSS_SELECTOR, \".jstree-node:not(.jstree-open)\")\n",
    "    for node in nodes:\n",
    "        try:\n",
    "            expander = node.find_element(By.CSS_SELECTOR, \".jstree-ocl\")\n",
    "            expander.click()\n",
    "            time.sleep(0.5)  # Ожидание анимации\n",
    "        except:\n",
    "            continue\n",
    "\n",
    "# Ожидание, пока все узлы будут развернуты\n",
    "wait.until(EC.presence_of_all_elements_located((By.CSS_SELECTOR, \".jstree-open\")))"
   ]
  },
  {
   "cell_type": "markdown",
   "id": "615284a1",
   "metadata": {},
   "source": [
    "📌 **Комментарий**: Разворачивание узлов дерева ATC-классификации. \n",
    "- Цикл находит все **свернутые** (`not(.jstree-open)`) элементы дерева и **раскрывает** их.\n",
    "- Используется `expander.click()` для клика по элементам.\n",
    "- `time.sleep(0.5)`: небольшая задержка для корректной работы анимации.\n"
   ]
  },
  {
   "cell_type": "code",
   "execution_count": null,
   "id": "462d6817",
   "metadata": {},
   "outputs": [],
   "source": [
    "page1 = driver.page_source\n",
    "with open('page_expanded.html', 'w') as f:\n",
    "    f.write(page1)"
   ]
  },
  {
   "cell_type": "markdown",
   "id": "809a5cdc",
   "metadata": {},
   "source": [
    "📌 **Комментарий**: Сохранение HTML-кода страницы после раскрытия ATC-дерева.\n",
    "- `driver.page_source` получает HTML-код текущей страницы.\n",
    "- Файл `page_expanded.html` используется для дальнейшего анализа структуры страницы.\n"
   ]
  },
  {
   "cell_type": "code",
   "execution_count": null,
   "id": "ea312183",
   "metadata": {},
   "outputs": [],
   "source": [
    "with open('page_expanded.html', 'r') as f:\n",
    "    page1 = f.readlines()"
   ]
  },
  {
   "cell_type": "code",
   "execution_count": null,
   "id": "6f393dbc",
   "metadata": {},
   "outputs": [],
   "source": [
    "page1"
   ]
  },
  {
   "cell_type": "code",
   "execution_count": null,
   "id": "145e3f34",
   "metadata": {},
   "outputs": [],
   "source": [
    "from bs4 import BeautifulSoup\n",
    "\n",
    "# Преобразуем HTML-код страницы в объект BeautifulSoup\n",
    "soup1 = BeautifulSoup(''.join(page1))  # Используется библиотека XML-парсинга\n",
    "print(type(soup1))  # Выводим тип объекта"
   ]
  },
  {
   "cell_type": "markdown",
   "id": "5c3039ff",
   "metadata": {},
   "source": [
    "📌 **Комментарий**: Использование BeautifulSoup для парсинга HTML-страницы. \n",
    "- `soup1 = BeautifulSoup(page1, 'html.parser')` преобразует HTML в удобный для анализа объект.\n",
    "- Вывод типа `soup1` подтверждает успешную обработку.\n"
   ]
  },
  {
   "cell_type": "code",
   "execution_count": null,
   "id": "2c1bf55d",
   "metadata": {},
   "outputs": [],
   "source": [
    "# soup = BeautifulSoup(page1, \"html.parser\")\n",
    "\n",
    "for child in soup.descendants:\n",
    "\n",
    "    if child.name:\n",
    "        print(child.name)"
   ]
  },
  {
   "cell_type": "markdown",
   "id": "481130c7",
   "metadata": {},
   "source": [
    "📌 **Комментарий**\n",
    "- Цикл проходит по всем элементам (descendants) HTML-страницы.\n",
    "- child.name выводит названия всех тегов (div, ul, li и т. д.).\n",
    "- Это помогает понять структуру HTML-документа перед извлечением данных."
   ]
  },
  {
   "cell_type": "markdown",
   "id": "c4726f8d",
   "metadata": {},
   "source": []
  },
  {
   "cell_type": "markdown",
   "id": "1ee2a5b6",
   "metadata": {},
   "source": [
    "Это помогает понять структуру HTML-документа перед извлечением данных."
   ]
  },
  {
   "cell_type": "code",
   "execution_count": null,
   "id": "e83f36b0",
   "metadata": {},
   "outputs": [],
   "source": [
    "res = soup1.find_all(\"ul\", recursive=True)\n",
    "# [x.text for x in res]  # Альтернативный способ вывести текст\n",
    "# res"
   ]
  },
  {
   "cell_type": "markdown",
   "id": "109547af",
   "metadata": {},
   "source": [
    "📌 **Комментарий**: Извлечение всех списков `<ul>` из структуры ATC-классификации. \n",
    "- `find_all('ul')` ищет все элементы списка, где хранятся подкатегории ATC.\n",
    "- Это помогает понять структуру дерева ATC.\n"
   ]
  },
  {
   "cell_type": "code",
   "execution_count": null,
   "id": "25d2ce18",
   "metadata": {},
   "outputs": [],
   "source": [
    "res = soup1.find(\"div\", attrs={'id' : 'category-jstree'})\n",
    "res"
   ]
  },
  {
   "cell_type": "markdown",
   "id": "1378bc5c",
   "metadata": {},
   "source": [
    "📌 **Комментарий**: Извлечение главного контейнера с категорией ATC. \n",
    "- Ищет div-элемент с id=\"category-jstree\", который, вероятно, содержит дерево ATC-классификации.\n",
    "- Если этот div найден, то он будет использоваться для дальнейшего анализа.\n"
   ]
  },
  {
   "cell_type": "code",
   "execution_count": null,
   "id": "d981d185",
   "metadata": {},
   "outputs": [],
   "source": [
    "res = soup1.find(\"i\", attrs={'role' : 'presentation'})\n",
    "res.text"
   ]
  },
  {
   "cell_type": "markdown",
   "id": "e0b24b07",
   "metadata": {},
   "source": [
    "📌 Комментарий:\n",
    "\n",
    "- find(\"i\", attrs={'role': 'presentation'}) ищет первый элемент <i> с атрибутом role=\"presentation\".\n",
    "- .text извлекает текстовое содержимое этого элемента.\n",
    "- Этот тег может использоваться для представления иконок или декоративных элементов в HTML-странице."
   ]
  },
  {
   "cell_type": "code",
   "execution_count": null,
   "id": "9a2bd4cf",
   "metadata": {},
   "outputs": [],
   "source": [
    "res = soup1.find(\"div\", attrs={'id' : 'category-jstree'})\n",
    "res"
   ]
  },
  {
   "cell_type": "markdown",
   "id": "5edd59a8",
   "metadata": {},
   "source": [
    "📌 Комментарий:\n",
    "\n",
    "- Аналогично ячейке 18, выполняется поиск div с id=\"category-jstree\".\n",
    "- Возможно, повторяется для дополнительной проверки или отладки."
   ]
  },
  {
   "cell_type": "code",
   "execution_count": null,
   "id": "d9824b0b",
   "metadata": {},
   "outputs": [],
   "source": [
    "soup1.text"
   ]
  },
  {
   "cell_type": "markdown",
   "id": "6816ee0d",
   "metadata": {},
   "source": [
    "📌 Комментарий:\n",
    "\n",
    "- .text извлекает весь текст со страницы, удаляя HTML-теги.\n",
    "Может использоваться для быстрого анализа содержимого, но без структуры.\n"
   ]
  },
  {
   "cell_type": "code",
   "execution_count": null,
   "id": "61b76e54",
   "metadata": {},
   "outputs": [],
   "source": [
    "res = soup1.findAll(\"a\")# attrs={'id' : 'jstree-anchor'})\n",
    "res"
   ]
  },
  {
   "cell_type": "markdown",
   "id": "775347f3",
   "metadata": {},
   "source": [
    "📌 **Комментарий**: Извлечение всех ссылок `<a>` на странице.\n",
    "- `findAll('a')` выбирает все гиперссылки, содержащие ATC-коды и их описания.\n"
   ]
  },
  {
   "cell_type": "code",
   "execution_count": null,
   "id": "8476a329",
   "metadata": {},
   "outputs": [],
   "source": [
    "texts = np.array([x.text for x in res])"
   ]
  },
  {
   "cell_type": "markdown",
   "id": "5f06db11",
   "metadata": {},
   "source": [
    "📌 Комментарий:\n",
    "\n",
    "- np.array([...]) создает массив NumPy из текстового содержимого всех найденных ссылок <a>.\n",
    "- Это позволяет в дальнейшем анализировать полученные категории ATC в структурированном формате."
   ]
  },
  {
   "cell_type": "code",
   "execution_count": null,
   "id": "e62ccb99",
   "metadata": {},
   "outputs": [],
   "source": [
    "import numpy as np\n",
    "\n",
    "# Выбираем только те элементы, у которых есть хотя бы две скобки '()'\n",
    "idx = np.nonzero([(len((set(x)) & set('()')) >= 2) for x in texts])[0]\n",
    "\n",
    "# Получаем отфильтрованные элементы\n",
    "entries = texts[idx]"
   ]
  },
  {
   "cell_type": "markdown",
   "id": "19531035",
   "metadata": {},
   "source": [
    "📌 **Комментарий**: Фильтрация элементов, содержащих коды ATC.\n",
    "- Выбираем только те элементы, у которых есть **две скобки** `()`.\n",
    "- Используется `np.nonzero([...])[0]` для получения индексов таких элементов.\n"
   ]
  },
  {
   "cell_type": "code",
   "execution_count": null,
   "id": "979e6ad5",
   "metadata": {},
   "outputs": [],
   "source": [
    "entries[1]"
   ]
  },
  {
   "cell_type": "markdown",
   "id": "42e107aa",
   "metadata": {},
   "source": [
    "📌 Комментарий:\n",
    "\n",
    "- Выводит второй (индекс 1) элемент из массива entries, содержащего отфильтрованные ATC-коды.\n",
    "- Используется для проверки корректности данных."
   ]
  },
  {
   "cell_type": "code",
   "execution_count": null,
   "id": "5aa8f31f",
   "metadata": {},
   "outputs": [],
   "source": [
    "categories = dict()\n",
    "unknowns = 0\n",
    "\n",
    "for i, entry in enumerate(entries):\n",
    "    key = entry[entry.rfind('('):]  # Извлекаем часть с кодом ATC в скобках\n",
    "    atc = entry[:entry.rfind('(')]  # Извлекаем текстовое описание ATC-кода\n",
    "    categories[key[1:-1]] = atc[:-1]  # Заполняем словарь"
   ]
  },
  {
   "cell_type": "markdown",
   "id": "bab49d77",
   "metadata": {},
   "source": [
    "📌 **Комментарий**: Создается словарь categories, где:\n",
    "- Ключ — код ATC (например, \"A10B\").\n",
    "- Значение — описание ATC-классификации.\n",
    "- entry.rfind('(') находит последнюю открывающую скобку, чтобы разделить код ATC и его описание.\n",
    "\n"
   ]
  },
  {
   "cell_type": "code",
   "execution_count": null,
   "id": "85bcd82c",
   "metadata": {},
   "outputs": [],
   "source": [
    "categories"
   ]
  },
  {
   "cell_type": "code",
   "execution_count": null,
   "id": "3318da0e",
   "metadata": {},
   "outputs": [],
   "source": [
    "import pandas as pd\n",
    "\n",
    "# Преобразуем словарь в DataFrame\n",
    "df = pd.DataFrame(data=categories.values(), index=categories.keys())\n",
    "df.reset_index(inplace=True)\n",
    "df.columns = ['ATC', 'ATC_info']\n",
    "\n",
    "df.head()  # Вывод первых строк"
   ]
  },
  {
   "cell_type": "markdown",
   "id": "871f9443",
   "metadata": {},
   "source": [
    "- Преобразует словарь categories в таблицу (DataFrame).\n",
    "- reset_index(inplace=True) сбрасывает индекс, делая код ATC отдельным столбцом.\n",
    "- df.columns = ['ATC', 'ATC_info'] задаёт названия столбцов:\n",
    "- ATC — код ATC.\n",
    "- ATC_info — описание классификации.\n",
    "- df.head() выводит первые строки таблицы."
   ]
  },
  {
   "cell_type": "markdown",
   "id": "2019c38d",
   "metadata": {},
   "source": [
    "📌 **Комментарий**: Преобразование словаря ATC в DataFrame.\n",
    "- `pd.DataFrame(data=categories.values(), index=categories.keys())` создаёт таблицу из словаря.\n",
    "- `reset_index(inplace=True)`: сбрасывает индексы, делая ATC-код отдельным столбцом.\n"
   ]
  },
  {
   "cell_type": "code",
   "execution_count": null,
   "id": "11be9ac0",
   "metadata": {},
   "outputs": [],
   "source": [
    "def reconstruct_level(df, atc):\n",
    "    ATC_chain = []\n",
    "    while len(atc) > 0:\n",
    "        if atc in df['ATC'].values:\n",
    "            ATC_chain.append(atc)\n",
    "        atc = atc[:-1]  # Убираем последний символ, чтобы подняться на уровень выше\n",
    "    return ATC_chain"
   ]
  },
  {
   "cell_type": "markdown",
   "id": "eeadd78d",
   "metadata": {},
   "source": [
    "📌 Комментарий:\n",
    "\n",
    "- Функция reconstruct_level(df, atc) восстанавливает иерархию ATC-классификации.\n",
    "Принцип работы:\n",
    "- Добавляет atc в ATC_chain, если код есть в df['ATC'].\n",
    "- Обрезает последний символ atc = atc[:-1], чтобы подняться на уровень выше в иерархии ATC-классификации.\n",
    "- Повторяет этот процесс, пока atc не станет пустым."
   ]
  },
  {
   "cell_type": "code",
   "execution_count": null,
   "id": "52abe726",
   "metadata": {},
   "outputs": [],
   "source": [
    "print(reconstruct_level(df, 'A10BJ06'))\n",
    "levels = []\n",
    "for i in range(df.shape[0]):\n",
    "    levels.append(reconstruct_level(df, df.iloc[i,:]['ATC']))"
   ]
  },
  {
   "cell_type": "markdown",
   "id": "d5206988",
   "metadata": {},
   "source": [
    "📌 **Комментарий**: Применение функции `reconstruct_level()` ко всем ATC-кодам.\n",
    "- print(reconstruct_level(df, 'A10BJ06')) демонстрирует восстановленную иерархию для A10BJ06.\n",
    "- Цикл обрабатывает весь DataFrame, применяя reconstruct_level() к каждому коду ATC.\n"
   ]
  },
  {
   "cell_type": "code",
   "execution_count": null,
   "id": "f5f1e406",
   "metadata": {},
   "outputs": [],
   "source": [
    "df['ATC_hierarchy'] = levels"
   ]
  },
  {
   "cell_type": "markdown",
   "id": "15019500",
   "metadata": {},
   "source": [
    "📌 **Комментарий**: Добавление столбца `ATC_hierarchy` в DataFrame.\n",
    "- Теперь у каждого ATC-кода есть соответствующая иерархическая цепочка.\n"
   ]
  },
  {
   "cell_type": "code",
   "execution_count": null,
   "id": "195a42a8",
   "metadata": {},
   "outputs": [],
   "source": [
    "df[df['ATC'] == 'A10']"
   ]
  },
  {
   "cell_type": "markdown",
   "id": "e5499c62",
   "metadata": {},
   "source": [
    "📌 **Комментарий**: Фильтрация таблицы, оставляя только категорию `A10` (препараты от диабета).\n"
   ]
  },
  {
   "cell_type": "code",
   "execution_count": null,
   "id": "d714efff",
   "metadata": {},
   "outputs": [],
   "source": [
    "df['used_in_diabetes'] = df['ATC'].apply(lambda x: 'A10' in x)"
   ]
  },
  {
   "cell_type": "markdown",
   "id": "ef5412dd",
   "metadata": {},
   "source": [
    "📌 **Комментарий**: Определение, связан ли препарат с лечением диабета.\n",
    "- `df['used_in_diabetes'] = df['ATC'].apply(lambda x: 'A10' in x)`: добавляет столбец.\n",
    "- Значение `True`, если код ATC начинается с `A10` (категория диабета).\n"
   ]
  },
  {
   "cell_type": "code",
   "execution_count": null,
   "id": "e0a08498",
   "metadata": {},
   "outputs": [],
   "source": [
    "df['number_of_children'] = df['ATC'].apply(lambda x: np.sum([x in y for y in df['ATC'].values]))"
   ]
  },
  {
   "cell_type": "code",
   "execution_count": null,
   "id": "c59da5a0",
   "metadata": {},
   "outputs": [],
   "source": [
    "df.head()"
   ]
  },
  {
   "cell_type": "code",
   "execution_count": null,
   "id": "6c2f57fb",
   "metadata": {},
   "outputs": [],
   "source": [
    "df.to_csv('data/ATC_categories_full.csv')"
   ]
  },
  {
   "cell_type": "code",
   "execution_count": null,
   "id": "e62bc7e6",
   "metadata": {},
   "outputs": [],
   "source": [
    "df_diabetis = df[(df['number_of_children'] == 1) & (df['used_in_diabetes'])]"
   ]
  },
  {
   "cell_type": "code",
   "execution_count": null,
   "id": "db23de97",
   "metadata": {},
   "outputs": [],
   "source": [
    "df_diabetis.to_csv('data/ATC_categories_diabetis.csv')"
   ]
  },
  {
   "cell_type": "code",
   "execution_count": null,
   "id": "66c6e9ed",
   "metadata": {},
   "outputs": [],
   "source": [
    "df_diabetis['ATC_info'].value_counts()"
   ]
  },
  {
   "cell_type": "code",
   "execution_count": null,
   "id": "a39c3d92",
   "metadata": {},
   "outputs": [],
   "source": [
    "df_diabetis[df_diabetis['ATC_info'] == 'Insulin (human)']"
   ]
  },
  {
   "cell_type": "code",
   "execution_count": null,
   "id": "cbe60c67",
   "metadata": {},
   "outputs": [],
   "source": [
    "# df_diabetis[df['ATC_info'] == 'Combinations']"
   ]
  },
  {
   "cell_type": "code",
   "execution_count": null,
   "id": "d84c582d",
   "metadata": {},
   "outputs": [],
   "source": [
    "df_diabetis[df_diabetis['ATC_info'] == 'Dapagliflozin']"
   ]
  },
  {
   "cell_type": "code",
   "execution_count": null,
   "id": "42165b8d",
   "metadata": {},
   "outputs": [],
   "source": []
  },
  {
   "cell_type": "code",
   "execution_count": null,
   "id": "00e4fdbd",
   "metadata": {},
   "outputs": [],
   "source": [
    "df[df['ATC_info'] == 'Semaglutide']"
   ]
  },
  {
   "cell_type": "code",
   "execution_count": null,
   "id": "f0e369db",
   "metadata": {},
   "outputs": [],
   "source": [
    "df[df['ATC'] == 'A10BJ06']"
   ]
  },
  {
   "cell_type": "code",
   "execution_count": null,
   "id": "ed807414",
   "metadata": {},
   "outputs": [],
   "source": [
    "df[df['ATC'] == 'A10BJ']"
   ]
  },
  {
   "cell_type": "code",
   "execution_count": null,
   "id": "d841be4e",
   "metadata": {},
   "outputs": [],
   "source": [
    "df[df['ATC'] == 'A10B']"
   ]
  },
  {
   "cell_type": "code",
   "execution_count": null,
   "id": "cf1e213c",
   "metadata": {},
   "outputs": [],
   "source": [
    "df[df['ATC'] == 'A10']"
   ]
  },
  {
   "cell_type": "code",
   "execution_count": null,
   "id": "e79c8f46",
   "metadata": {},
   "outputs": [],
   "source": [
    "df[df['ATC'] == 'A']"
   ]
  },
  {
   "cell_type": "code",
   "execution_count": null,
   "id": "a545c9c0",
   "metadata": {},
   "outputs": [],
   "source": [
    "df_diabetis"
   ]
  },
  {
   "cell_type": "code",
   "execution_count": null,
   "id": "274d452f",
   "metadata": {},
   "outputs": [],
   "source": [
    "df_diabetis[df_diabetis['ATC_info'].apply(lambda x: ' and ' in x)]"
   ]
  },
  {
   "cell_type": "code",
   "execution_count": null,
   "id": "fdf1825c",
   "metadata": {},
   "outputs": [],
   "source": [
    "df_diabetis_solo_drugs = df_diabetis[~df_diabetis['ATC_info'].apply(lambda x: ' and ' in x)]"
   ]
  },
  {
   "cell_type": "code",
   "execution_count": null,
   "id": "a7b1b322",
   "metadata": {},
   "outputs": [],
   "source": [
    "df_diabetis_solo_drugs['ATC'].values"
   ]
  },
  {
   "cell_type": "code",
   "execution_count": null,
   "id": "c7870e9e",
   "metadata": {},
   "outputs": [],
   "source": [
    "import shutil\n",
    "for atc in df_diabetis_solo_drugs['ATC'].values:\n",
    "    shutil.copy2(f'drug_pages/{atc}.html', f'drug_pages_solo/{atc}.html')"
   ]
  },
  {
   "cell_type": "code",
   "execution_count": null,
   "id": "ca7c14bd",
   "metadata": {},
   "outputs": [],
   "source": []
  }
 ],
 "metadata": {
  "language_info": {
   "name": "python"
  }
 },
 "nbformat": 4,
 "nbformat_minor": 5
}
